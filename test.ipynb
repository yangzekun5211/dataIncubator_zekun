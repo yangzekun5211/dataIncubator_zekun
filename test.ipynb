{
 "cells": [
  {
   "cell_type": "markdown",
   "metadata": {},
   "source": [
    "LC borrower loan status prediction\n",
    "\n",
    "step 1: Load and prepare the data set\n"
   ]
  },
  {
   "cell_type": "code",
   "execution_count": 33,
   "metadata": {},
   "outputs": [],
   "source": [
    "## Import packages\n",
    "library(ggplot2)\n",
    "library(repr)\n",
    "library(dplyr)\n",
    "options(repr.plot.width=4, repr.plot.height=4)"
   ]
  },
  {
   "cell_type": "code",
   "execution_count": 34,
   "metadata": {
    "scrolled": true
   },
   "outputs": [
    {
     "name": "stdout",
     "output_type": "stream",
     "text": [
      "'data.frame':\t42542 obs. of  145 variables:\n",
      " $ id                                        : chr  \"\" \"\" \"\" \"\" ...\n",
      " $ member_id                                 : logi  NA NA NA NA NA NA ...\n",
      " $ loan_amnt                                 : int  5000 2500 2400 10000 3000 5000 7000 3000 5600 5375 ...\n",
      " $ funded_amnt                               : int  5000 2500 2400 10000 3000 5000 7000 3000 5600 5375 ...\n",
      " $ funded_amnt_inv                           : num  4975 2500 2400 10000 3000 ...\n",
      " $ term                                      : chr  \" 36 months\" \" 60 months\" \" 36 months\" \" 36 months\" ...\n",
      " $ int_rate                                  : chr  \"10.65%\" \"15.27%\" \"15.96%\" \"13.49%\" ...\n",
      " $ installment                               : num  162.9 59.8 84.3 339.3 67.8 ...\n",
      " $ grade                                     : chr  \"B\" \"C\" \"C\" \"C\" ...\n",
      " $ sub_grade                                 : chr  \"B2\" \"C4\" \"C5\" \"C1\" ...\n",
      " $ emp_title                                 : chr  \"\" \"Ryder\" \"\" \"AIR RESOURCES BOARD\" ...\n",
      " $ emp_length                                : chr  \"10+ years\" \"< 1 year\" \"10+ years\" \"10+ years\" ...\n",
      " $ home_ownership                            : chr  \"RENT\" \"RENT\" \"RENT\" \"RENT\" ...\n",
      " $ annual_inc                                : num  24000 30000 12252 49200 80000 ...\n",
      " $ verification_status                       : chr  \"Verified\" \"Source Verified\" \"Not Verified\" \"Source Verified\" ...\n",
      " $ issue_d                                   : chr  \"Dec-11\" \"Dec-11\" \"Dec-11\" \"Dec-11\" ...\n",
      " $ loan_status                               : chr  \"Fully Paid\" \"Charged Off\" \"Fully Paid\" \"Fully Paid\" ...\n",
      " $ pymnt_plan                                : chr  \"n\" \"n\" \"n\" \"n\" ...\n",
      " $ url                                       : logi  NA NA NA NA NA NA ...\n",
      " $ desc                                      : chr  \"  Borrower added on 12/22/11 > I need to upgrade my business technologies.<br>\" \"  Borrower added on 12/22/11 > I plan to use this money to finance the motorcycle i am looking at. I plan to ha\"| __truncated__ \"\" \"  Borrower added on 12/21/11 > to pay for property tax (borrow from friend, need to pay back) & central A/C nee\"| __truncated__ ...\n",
      " $ purpose                                   : chr  \"credit_card\" \"car\" \"small_business\" \"other\" ...\n",
      " $ title                                     : chr  \"Computer\" \"bike\" \"real estate business\" \"personel\" ...\n",
      " $ zip_code                                  : chr  \"860xx\" \"309xx\" \"606xx\" \"917xx\" ...\n",
      " $ addr_state                                : chr  \"AZ\" \"GA\" \"IL\" \"CA\" ...\n",
      " $ dti                                       : num  27.65 1 8.72 20 17.94 ...\n",
      " $ delinq_2yrs                               : chr  \"0\" \"0\" \"0\" \"0\" ...\n",
      " $ earliest_cr_line                          : chr  \"Jan-85\" \"Apr-99\" \"Nov-01\" \"Feb-96\" ...\n",
      " $ inq_last_6mths                            : int  1 5 2 1 0 3 1 2 2 0 ...\n",
      " $ mths_since_last_delinq                    : int  NA NA NA 35 38 NA NA NA NA NA ...\n",
      " $ mths_since_last_record                    : int  NA NA NA NA NA NA NA NA NA NA ...\n",
      " $ open_acc                                  : int  3 3 2 10 15 9 7 4 11 2 ...\n",
      " $ pub_rec                                   : int  0 0 0 0 0 0 0 0 0 0 ...\n",
      " $ revol_bal                                 : chr  \"13648\" \"1687\" \"2956\" \"5598\" ...\n",
      " $ revol_util                                : chr  \"83.70%\" \"9.40%\" \"98.50%\" \"21%\" ...\n",
      " $ total_acc                                 : chr  \"9\" \"4\" \"10\" \"37\" ...\n",
      " $ initial_list_status                       : chr  \"f\" \"f\" \"f\" \"f\" ...\n",
      " $ out_prncp                                 : int  0 0 0 0 0 0 0 0 0 0 ...\n",
      " $ out_prncp_inv                             : num  0 0 0 0 0 0 0 0 0 0 ...\n",
      " $ total_pymnt                               : num  5863 1015 3006 12232 4067 ...\n",
      " $ total_pymnt_inv                           : num  5834 1015 3006 12232 4067 ...\n",
      " $ total_rec_prncp                           : num  5000 456 2400 10000 3000 ...\n",
      " $ total_rec_int                             : num  863 435 606 2215 1067 ...\n",
      " $ total_rec_late_fee                        : num  0 0 0 17 0 ...\n",
      " $ recoveries                                : num  0 123 0 0 0 ...\n",
      " $ collection_recovery_fee                   : chr  \"0\" \"1.11\" \"0\" \"0\" ...\n",
      " $ last_pymnt_d                              : chr  \"Jan-15\" \"Apr-13\" \"Jun-14\" \"Jan-15\" ...\n",
      " $ last_pymnt_amnt                           : num  171.6 119.7 649.9 357.5 67.3 ...\n",
      " $ next_pymnt_d                              : chr  \"\" \"\" \"\" \"\" ...\n",
      " $ last_credit_pull_d                        : chr  \"Sep-18\" \"Oct-16\" \"Jun-17\" \"Apr-16\" ...\n",
      " $ collections_12_mths_ex_med                : int  0 0 0 0 0 0 0 0 0 0 ...\n",
      " $ mths_since_last_major_derog               : int  NA NA NA NA NA NA NA NA NA NA ...\n",
      " $ policy_code                               : chr  \"1\" \"1\" \"1\" \"1\" ...\n",
      " $ application_type                          : chr  \"Individual\" \"Individual\" \"Individual\" \"Individual\" ...\n",
      " $ annual_inc_joint                          : logi  NA NA NA NA NA NA ...\n",
      " $ dti_joint                                 : logi  NA NA NA NA NA NA ...\n",
      " $ verification_status_joint                 : int  NA NA NA NA NA NA NA NA NA NA ...\n",
      " $ acc_now_delinq                            : int  0 0 0 0 0 0 0 0 0 0 ...\n",
      " $ tot_coll_amt                              : logi  NA NA NA NA NA NA ...\n",
      " $ tot_cur_bal                               : logi  NA NA NA NA NA NA ...\n",
      " $ open_acc_6m                               : logi  NA NA NA NA NA NA ...\n",
      " $ open_act_il                               : logi  NA NA NA NA NA NA ...\n",
      " $ open_il_12m                               : logi  NA NA NA NA NA NA ...\n",
      " $ open_il_24m                               : logi  NA NA NA NA NA NA ...\n",
      " $ mths_since_rcnt_il                        : logi  NA NA NA NA NA NA ...\n",
      " $ total_bal_il                              : logi  NA NA NA NA NA NA ...\n",
      " $ il_util                                   : logi  NA NA NA NA NA NA ...\n",
      " $ open_rv_12m                               : logi  NA NA NA NA NA NA ...\n",
      " $ open_rv_24m                               : logi  NA NA NA NA NA NA ...\n",
      " $ max_bal_bc                                : logi  NA NA NA NA NA NA ...\n",
      " $ all_util                                  : logi  NA NA NA NA NA NA ...\n",
      " $ total_rev_hi_lim                          : logi  NA NA NA NA NA NA ...\n",
      " $ inq_fi                                    : logi  NA NA NA NA NA NA ...\n",
      " $ total_cu_tl                               : logi  NA NA NA NA NA NA ...\n",
      " $ inq_last_12m                              : logi  NA NA NA NA NA NA ...\n",
      " $ acc_open_past_24mths                      : logi  NA NA NA NA NA NA ...\n",
      " $ avg_cur_bal                               : logi  NA NA NA NA NA NA ...\n",
      " $ bc_open_to_buy                            : logi  NA NA NA NA NA NA ...\n",
      " $ bc_util                                   : int  NA NA NA NA NA NA NA NA NA NA ...\n",
      " $ chargeoff_within_12_mths                  : int  0 0 0 0 0 0 0 0 0 0 ...\n",
      " $ delinq_amnt                               : int  0 0 0 0 0 0 0 0 0 0 ...\n",
      " $ mo_sin_old_il_acct                        : logi  NA NA NA NA NA NA ...\n",
      " $ mo_sin_old_rev_tl_op                      : logi  NA NA NA NA NA NA ...\n",
      " $ mo_sin_rcnt_rev_tl_op                     : logi  NA NA NA NA NA NA ...\n",
      " $ mo_sin_rcnt_tl                            : logi  NA NA NA NA NA NA ...\n",
      " $ mort_acc                                  : logi  NA NA NA NA NA NA ...\n",
      " $ mths_since_recent_bc                      : logi  NA NA NA NA NA NA ...\n",
      " $ mths_since_recent_bc_dlq                  : logi  NA NA NA NA NA NA ...\n",
      " $ mths_since_recent_inq                     : logi  NA NA NA NA NA NA ...\n",
      " $ mths_since_recent_revol_delinq            : logi  NA NA NA NA NA NA ...\n",
      " $ num_accts_ever_120_pd                     : logi  NA NA NA NA NA NA ...\n",
      " $ num_actv_bc_tl                            : logi  NA NA NA NA NA NA ...\n",
      " $ num_actv_rev_tl                           : logi  NA NA NA NA NA NA ...\n",
      " $ num_bc_sats                               : logi  NA NA NA NA NA NA ...\n",
      " $ num_bc_tl                                 : logi  NA NA NA NA NA NA ...\n",
      " $ num_il_tl                                 : logi  NA NA NA NA NA NA ...\n",
      " $ num_op_rev_tl                             : logi  NA NA NA NA NA NA ...\n",
      " $ num_rev_accts                             : logi  NA NA NA NA NA NA ...\n",
      " $ num_rev_tl_bal_gt_0                       : logi  NA NA NA NA NA NA ...\n",
      " $ num_sats                                  : logi  NA NA NA NA NA NA ...\n",
      "  [list output truncated]\n"
     ]
    },
    {
     "data": {
      "text/html": [
       "<table>\n",
       "<thead><tr><th scope=col>id</th><th scope=col>member_id</th><th scope=col>loan_amnt</th><th scope=col>funded_amnt</th><th scope=col>funded_amnt_inv</th><th scope=col>term</th><th scope=col>int_rate</th><th scope=col>installment</th><th scope=col>grade</th><th scope=col>sub_grade</th><th scope=col>...</th><th scope=col>hardship_payoff_balance_amount</th><th scope=col>hardship_last_payment_amount</th><th scope=col>disbursement_method</th><th scope=col>debt_settlement_flag</th><th scope=col>debt_settlement_flag_date</th><th scope=col>settlement_status</th><th scope=col>settlement_date</th><th scope=col>settlement_amount</th><th scope=col>settlement_percentage</th><th scope=col>settlement_term</th></tr></thead>\n",
       "<tbody>\n",
       "\t<tr><td>          </td><td>NA        </td><td> 5000     </td><td> 5000     </td><td> 4975     </td><td> 36 months</td><td>10.65%    </td><td>162.87    </td><td>B         </td><td>B2        </td><td>...       </td><td>NA        </td><td>          </td><td>Cash      </td><td>N         </td><td>          </td><td>          </td><td>          </td><td>NA        </td><td>NA        </td><td>NA        </td></tr>\n",
       "\t<tr><td>          </td><td>NA        </td><td> 2500     </td><td> 2500     </td><td> 2500     </td><td> 60 months</td><td>15.27%    </td><td> 59.83    </td><td>C         </td><td>C4        </td><td>...       </td><td>NA        </td><td>          </td><td>Cash      </td><td>N         </td><td>          </td><td>          </td><td>          </td><td>NA        </td><td>NA        </td><td>NA        </td></tr>\n",
       "\t<tr><td>          </td><td>NA        </td><td> 2400     </td><td> 2400     </td><td> 2400     </td><td> 36 months</td><td>15.96%    </td><td> 84.33    </td><td>C         </td><td>C5        </td><td>...       </td><td>NA        </td><td>          </td><td>Cash      </td><td>N         </td><td>          </td><td>          </td><td>          </td><td>NA        </td><td>NA        </td><td>NA        </td></tr>\n",
       "\t<tr><td>          </td><td>NA        </td><td>10000     </td><td>10000     </td><td>10000     </td><td> 36 months</td><td>13.49%    </td><td>339.31    </td><td>C         </td><td>C1        </td><td>...       </td><td>NA        </td><td>          </td><td>Cash      </td><td>N         </td><td>          </td><td>          </td><td>          </td><td>NA        </td><td>NA        </td><td>NA        </td></tr>\n",
       "\t<tr><td>          </td><td>NA        </td><td> 3000     </td><td> 3000     </td><td> 3000     </td><td> 60 months</td><td>12.69%    </td><td> 67.79    </td><td>B         </td><td>B5        </td><td>...       </td><td>NA        </td><td>          </td><td>Cash      </td><td>N         </td><td>          </td><td>          </td><td>          </td><td>NA        </td><td>NA        </td><td>NA        </td></tr>\n",
       "\t<tr><td>          </td><td>NA        </td><td> 5000     </td><td> 5000     </td><td> 5000     </td><td> 36 months</td><td>7.90%     </td><td>156.46    </td><td>A         </td><td>A4        </td><td>...       </td><td>NA        </td><td>          </td><td>Cash      </td><td>N         </td><td>          </td><td>          </td><td>          </td><td>NA        </td><td>NA        </td><td>NA        </td></tr>\n",
       "</tbody>\n",
       "</table>\n"
      ],
      "text/latex": [
       "\\begin{tabular}{r|lllllllllllllllllllllllllllllllllllllllllllllllllllllllllllllllllllllllllllllllllllllllllllllllllllllllllllllllllllllllllllllllllllllllllllllllll}\n",
       " id & member\\_id & loan\\_amnt & funded\\_amnt & funded\\_amnt\\_inv & term & int\\_rate & installment & grade & sub\\_grade & ... & hardship\\_payoff\\_balance\\_amount & hardship\\_last\\_payment\\_amount & disbursement\\_method & debt\\_settlement\\_flag & debt\\_settlement\\_flag\\_date & settlement\\_status & settlement\\_date & settlement\\_amount & settlement\\_percentage & settlement\\_term\\\\\n",
       "\\hline\n",
       "\t            & NA         &  5000      &  5000      &  4975      &  36 months & 10.65\\%   & 162.87     & B          & B2         & ...        & NA         &            & Cash       & N          &            &            &            & NA         & NA         & NA        \\\\\n",
       "\t            & NA         &  2500      &  2500      &  2500      &  60 months & 15.27\\%   &  59.83     & C          & C4         & ...        & NA         &            & Cash       & N          &            &            &            & NA         & NA         & NA        \\\\\n",
       "\t            & NA         &  2400      &  2400      &  2400      &  36 months & 15.96\\%   &  84.33     & C          & C5         & ...        & NA         &            & Cash       & N          &            &            &            & NA         & NA         & NA        \\\\\n",
       "\t            & NA         & 10000      & 10000      & 10000      &  36 months & 13.49\\%   & 339.31     & C          & C1         & ...        & NA         &            & Cash       & N          &            &            &            & NA         & NA         & NA        \\\\\n",
       "\t            & NA         &  3000      &  3000      &  3000      &  60 months & 12.69\\%   &  67.79     & B          & B5         & ...        & NA         &            & Cash       & N          &            &            &            & NA         & NA         & NA        \\\\\n",
       "\t            & NA         &  5000      &  5000      &  5000      &  36 months & 7.90\\%    & 156.46     & A          & A4         & ...        & NA         &            & Cash       & N          &            &            &            & NA         & NA         & NA        \\\\\n",
       "\\end{tabular}\n"
      ],
      "text/markdown": [
       "\n",
       "id | member_id | loan_amnt | funded_amnt | funded_amnt_inv | term | int_rate | installment | grade | sub_grade | ... | hardship_payoff_balance_amount | hardship_last_payment_amount | disbursement_method | debt_settlement_flag | debt_settlement_flag_date | settlement_status | settlement_date | settlement_amount | settlement_percentage | settlement_term | \n",
       "|---|---|---|---|---|---|\n",
       "|            | NA         |  5000      |  5000      |  4975      |  36 months | 10.65%     | 162.87     | B          | B2         | ...        | NA         |            | Cash       | N          |            |            |            | NA         | NA         | NA         | \n",
       "|            | NA         |  2500      |  2500      |  2500      |  60 months | 15.27%     |  59.83     | C          | C4         | ...        | NA         |            | Cash       | N          |            |            |            | NA         | NA         | NA         | \n",
       "|            | NA         |  2400      |  2400      |  2400      |  36 months | 15.96%     |  84.33     | C          | C5         | ...        | NA         |            | Cash       | N          |            |            |            | NA         | NA         | NA         | \n",
       "|            | NA         | 10000      | 10000      | 10000      |  36 months | 13.49%     | 339.31     | C          | C1         | ...        | NA         |            | Cash       | N          |            |            |            | NA         | NA         | NA         | \n",
       "|            | NA         |  3000      |  3000      |  3000      |  60 months | 12.69%     |  67.79     | B          | B5         | ...        | NA         |            | Cash       | N          |            |            |            | NA         | NA         | NA         | \n",
       "|            | NA         |  5000      |  5000      |  5000      |  36 months | 7.90%      | 156.46     | A          | A4         | ...        | NA         |            | Cash       | N          |            |            |            | NA         | NA         | NA         | \n",
       "\n",
       "\n"
      ],
      "text/plain": [
       "  id member_id loan_amnt funded_amnt funded_amnt_inv term       int_rate\n",
       "1    NA         5000      5000        4975            36 months 10.65%  \n",
       "2    NA         2500      2500        2500            60 months 15.27%  \n",
       "3    NA         2400      2400        2400            36 months 15.96%  \n",
       "4    NA        10000     10000       10000            36 months 13.49%  \n",
       "5    NA         3000      3000        3000            60 months 12.69%  \n",
       "6    NA         5000      5000        5000            36 months 7.90%   \n",
       "  installment grade sub_grade ... hardship_payoff_balance_amount\n",
       "1 162.87      B     B2        ... NA                            \n",
       "2  59.83      C     C4        ... NA                            \n",
       "3  84.33      C     C5        ... NA                            \n",
       "4 339.31      C     C1        ... NA                            \n",
       "5  67.79      B     B5        ... NA                            \n",
       "6 156.46      A     A4        ... NA                            \n",
       "  hardship_last_payment_amount disbursement_method debt_settlement_flag\n",
       "1                              Cash                N                   \n",
       "2                              Cash                N                   \n",
       "3                              Cash                N                   \n",
       "4                              Cash                N                   \n",
       "5                              Cash                N                   \n",
       "6                              Cash                N                   \n",
       "  debt_settlement_flag_date settlement_status settlement_date settlement_amount\n",
       "1                                                             NA               \n",
       "2                                                             NA               \n",
       "3                                                             NA               \n",
       "4                                                             NA               \n",
       "5                                                             NA               \n",
       "6                                                             NA               \n",
       "  settlement_percentage settlement_term\n",
       "1 NA                    NA             \n",
       "2 NA                    NA             \n",
       "3 NA                    NA             \n",
       "4 NA                    NA             \n",
       "5 NA                    NA             \n",
       "6 NA                    NA             "
      ]
     },
     "metadata": {},
     "output_type": "display_data"
    }
   ],
   "source": [
    "credit = read.csv('LoanStats3a.csv', header=TRUE, stringsAsFactors=FALSE)\n",
    "str(credit)\n",
    "head(credit)"
   ]
  },
  {
   "cell_type": "markdown",
   "metadata": {},
   "source": [
    "data analysis:\n",
    "\n",
    "select interested features"
   ]
  },
  {
   "cell_type": "code",
   "execution_count": 35,
   "metadata": {},
   "outputs": [],
   "source": [
    "selected.columns <- c('loan_status', 'loan_amnt', 'funded_amnt', 'funded_amnt_inv', 'term', 'int_rate', 'installment',\n",
    "                     'grade','emp_length', 'home_ownership', 'annual_inc', 'verification_status',\n",
    "                     'issue_d', 'purpose', 'dti', 'delinq_2yrs', 'earliest_cr_line', 'inq_last_6mths',\n",
    "                     'mths_since_last_delinq', 'mths_since_last_record', 'open_acc', 'pub_rec', 'revol_bal', 'revol_util',\n",
    "                     'total_acc', 'initial_list_status', 'out_prncp', 'out_prncp_inv')\n",
    "credit <- credit[,selected.columns]"
   ]
  },
  {
   "cell_type": "code",
   "execution_count": 36,
   "metadata": {},
   "outputs": [
    {
     "data": {
      "text/html": [
       "<table>\n",
       "<thead><tr><th scope=col>loan_status</th><th scope=col>loan_amnt</th><th scope=col>funded_amnt</th><th scope=col>funded_amnt_inv</th><th scope=col>term</th><th scope=col>int_rate</th><th scope=col>installment</th><th scope=col>grade</th><th scope=col>emp_length</th><th scope=col>home_ownership</th><th scope=col>...</th><th scope=col>mths_since_last_delinq</th><th scope=col>mths_since_last_record</th><th scope=col>open_acc</th><th scope=col>pub_rec</th><th scope=col>revol_bal</th><th scope=col>revol_util</th><th scope=col>total_acc</th><th scope=col>initial_list_status</th><th scope=col>out_prncp</th><th scope=col>out_prncp_inv</th></tr></thead>\n",
       "<tbody>\n",
       "\t<tr><td>Fully Paid </td><td> 5000      </td><td> 5000      </td><td> 4975      </td><td> 36 months </td><td>10.65%     </td><td>162.87     </td><td>B          </td><td>10+ years  </td><td>RENT       </td><td>...        </td><td>NA         </td><td>NA         </td><td> 3         </td><td>0          </td><td>13648      </td><td>83.70%     </td><td>9          </td><td>f          </td><td>0          </td><td>0          </td></tr>\n",
       "\t<tr><td>Charged Off </td><td> 2500       </td><td> 2500       </td><td> 2500       </td><td> 60 months  </td><td>15.27%      </td><td> 59.83      </td><td>C           </td><td>&lt; 1 year </td><td>RENT        </td><td>...         </td><td>NA          </td><td>NA          </td><td> 3          </td><td>0           </td><td>1687        </td><td>9.40%       </td><td>4           </td><td>f           </td><td>0           </td><td>0           </td></tr>\n",
       "\t<tr><td>Fully Paid </td><td> 2400      </td><td> 2400      </td><td> 2400      </td><td> 36 months </td><td>15.96%     </td><td> 84.33     </td><td>C          </td><td>10+ years  </td><td>RENT       </td><td>...        </td><td>NA         </td><td>NA         </td><td> 2         </td><td>0          </td><td>2956       </td><td>98.50%     </td><td>10         </td><td>f          </td><td>0          </td><td>0          </td></tr>\n",
       "\t<tr><td>Fully Paid </td><td>10000      </td><td>10000      </td><td>10000      </td><td> 36 months </td><td>13.49%     </td><td>339.31     </td><td>C          </td><td>10+ years  </td><td>RENT       </td><td>...        </td><td>35         </td><td>NA         </td><td>10         </td><td>0          </td><td>5598       </td><td>21%        </td><td>37         </td><td>f          </td><td>0          </td><td>0          </td></tr>\n",
       "\t<tr><td>Fully Paid </td><td> 3000      </td><td> 3000      </td><td> 3000      </td><td> 60 months </td><td>12.69%     </td><td> 67.79     </td><td>B          </td><td>1 year     </td><td>RENT       </td><td>...        </td><td>38         </td><td>NA         </td><td>15         </td><td>0          </td><td>27783      </td><td>53.90%     </td><td>38         </td><td>f          </td><td>0          </td><td>0          </td></tr>\n",
       "\t<tr><td>Fully Paid </td><td> 5000      </td><td> 5000      </td><td> 5000      </td><td> 36 months </td><td>7.90%      </td><td>156.46     </td><td>A          </td><td>3 years    </td><td>RENT       </td><td>...        </td><td>NA         </td><td>NA         </td><td> 9         </td><td>0          </td><td>7963       </td><td>28.30%     </td><td>12         </td><td>f          </td><td>0          </td><td>0          </td></tr>\n",
       "</tbody>\n",
       "</table>\n"
      ],
      "text/latex": [
       "\\begin{tabular}{r|llllllllllllllllllllllllllll}\n",
       " loan\\_status & loan\\_amnt & funded\\_amnt & funded\\_amnt\\_inv & term & int\\_rate & installment & grade & emp\\_length & home\\_ownership & ... & mths\\_since\\_last\\_delinq & mths\\_since\\_last\\_record & open\\_acc & pub\\_rec & revol\\_bal & revol\\_util & total\\_acc & initial\\_list\\_status & out\\_prncp & out\\_prncp\\_inv\\\\\n",
       "\\hline\n",
       "\t Fully Paid  &  5000       &  5000       &  4975       &  36 months  & 10.65\\%    & 162.87      & B           & 10+ years   & RENT        & ...         & NA          & NA          &  3          & 0           & 13648       & 83.70\\%    & 9           & f           & 0           & 0          \\\\\n",
       "\t Charged Off &  2500       &  2500       &  2500       &  60 months  & 15.27\\%    &  59.83      & C           & < 1 year    & RENT        & ...         & NA          & NA          &  3          & 0           & 1687        & 9.40\\%     & 4           & f           & 0           & 0          \\\\\n",
       "\t Fully Paid  &  2400       &  2400       &  2400       &  36 months  & 15.96\\%    &  84.33      & C           & 10+ years   & RENT        & ...         & NA          & NA          &  2          & 0           & 2956        & 98.50\\%    & 10          & f           & 0           & 0          \\\\\n",
       "\t Fully Paid  & 10000       & 10000       & 10000       &  36 months  & 13.49\\%    & 339.31      & C           & 10+ years   & RENT        & ...         & 35          & NA          & 10          & 0           & 5598        & 21\\%       & 37          & f           & 0           & 0          \\\\\n",
       "\t Fully Paid  &  3000       &  3000       &  3000       &  60 months  & 12.69\\%    &  67.79      & B           & 1 year      & RENT        & ...         & 38          & NA          & 15          & 0           & 27783       & 53.90\\%    & 38          & f           & 0           & 0          \\\\\n",
       "\t Fully Paid  &  5000       &  5000       &  5000       &  36 months  & 7.90\\%     & 156.46      & A           & 3 years     & RENT        & ...         & NA          & NA          &  9          & 0           & 7963        & 28.30\\%    & 12          & f           & 0           & 0          \\\\\n",
       "\\end{tabular}\n"
      ],
      "text/markdown": [
       "\n",
       "loan_status | loan_amnt | funded_amnt | funded_amnt_inv | term | int_rate | installment | grade | emp_length | home_ownership | ... | mths_since_last_delinq | mths_since_last_record | open_acc | pub_rec | revol_bal | revol_util | total_acc | initial_list_status | out_prncp | out_prncp_inv | \n",
       "|---|---|---|---|---|---|\n",
       "| Fully Paid  |  5000       |  5000       |  4975       |  36 months  | 10.65%      | 162.87      | B           | 10+ years   | RENT        | ...         | NA          | NA          |  3          | 0           | 13648       | 83.70%      | 9           | f           | 0           | 0           | \n",
       "| Charged Off |  2500       |  2500       |  2500       |  60 months  | 15.27%      |  59.83      | C           | < 1 year    | RENT        | ...         | NA          | NA          |  3          | 0           | 1687        | 9.40%       | 4           | f           | 0           | 0           | \n",
       "| Fully Paid  |  2400       |  2400       |  2400       |  36 months  | 15.96%      |  84.33      | C           | 10+ years   | RENT        | ...         | NA          | NA          |  2          | 0           | 2956        | 98.50%      | 10          | f           | 0           | 0           | \n",
       "| Fully Paid  | 10000       | 10000       | 10000       |  36 months  | 13.49%      | 339.31      | C           | 10+ years   | RENT        | ...         | 35          | NA          | 10          | 0           | 5598        | 21%         | 37          | f           | 0           | 0           | \n",
       "| Fully Paid  |  3000       |  3000       |  3000       |  60 months  | 12.69%      |  67.79      | B           | 1 year      | RENT        | ...         | 38          | NA          | 15          | 0           | 27783       | 53.90%      | 38          | f           | 0           | 0           | \n",
       "| Fully Paid  |  5000       |  5000       |  5000       |  36 months  | 7.90%       | 156.46      | A           | 3 years     | RENT        | ...         | NA          | NA          |  9          | 0           | 7963        | 28.30%      | 12          | f           | 0           | 0           | \n",
       "\n",
       "\n"
      ],
      "text/plain": [
       "  loan_status loan_amnt funded_amnt funded_amnt_inv term       int_rate\n",
       "1 Fully Paid   5000      5000        4975            36 months 10.65%  \n",
       "2 Charged Off  2500      2500        2500            60 months 15.27%  \n",
       "3 Fully Paid   2400      2400        2400            36 months 15.96%  \n",
       "4 Fully Paid  10000     10000       10000            36 months 13.49%  \n",
       "5 Fully Paid   3000      3000        3000            60 months 12.69%  \n",
       "6 Fully Paid   5000      5000        5000            36 months 7.90%   \n",
       "  installment grade emp_length home_ownership ... mths_since_last_delinq\n",
       "1 162.87      B     10+ years  RENT           ... NA                    \n",
       "2  59.83      C     < 1 year   RENT           ... NA                    \n",
       "3  84.33      C     10+ years  RENT           ... NA                    \n",
       "4 339.31      C     10+ years  RENT           ... 35                    \n",
       "5  67.79      B     1 year     RENT           ... 38                    \n",
       "6 156.46      A     3 years    RENT           ... NA                    \n",
       "  mths_since_last_record open_acc pub_rec revol_bal revol_util total_acc\n",
       "1 NA                      3       0       13648     83.70%     9        \n",
       "2 NA                      3       0       1687      9.40%      4        \n",
       "3 NA                      2       0       2956      98.50%     10       \n",
       "4 NA                     10       0       5598      21%        37       \n",
       "5 NA                     15       0       27783     53.90%     38       \n",
       "6 NA                      9       0       7963      28.30%     12       \n",
       "  initial_list_status out_prncp out_prncp_inv\n",
       "1 f                   0         0            \n",
       "2 f                   0         0            \n",
       "3 f                   0         0            \n",
       "4 f                   0         0            \n",
       "5 f                   0         0            \n",
       "6 f                   0         0            "
      ]
     },
     "metadata": {},
     "output_type": "display_data"
    },
    {
     "name": "stdout",
     "output_type": "stream",
     "text": [
      "'data.frame':\t42542 obs. of  28 variables:\n",
      " $ loan_status           : chr  \"Fully Paid\" \"Charged Off\" \"Fully Paid\" \"Fully Paid\" ...\n",
      " $ loan_amnt             : int  5000 2500 2400 10000 3000 5000 7000 3000 5600 5375 ...\n",
      " $ funded_amnt           : int  5000 2500 2400 10000 3000 5000 7000 3000 5600 5375 ...\n",
      " $ funded_amnt_inv       : num  4975 2500 2400 10000 3000 ...\n",
      " $ term                  : chr  \" 36 months\" \" 60 months\" \" 36 months\" \" 36 months\" ...\n",
      " $ int_rate              : chr  \"10.65%\" \"15.27%\" \"15.96%\" \"13.49%\" ...\n",
      " $ installment           : num  162.9 59.8 84.3 339.3 67.8 ...\n",
      " $ grade                 : chr  \"B\" \"C\" \"C\" \"C\" ...\n",
      " $ emp_length            : chr  \"10+ years\" \"< 1 year\" \"10+ years\" \"10+ years\" ...\n",
      " $ home_ownership        : chr  \"RENT\" \"RENT\" \"RENT\" \"RENT\" ...\n",
      " $ annual_inc            : num  24000 30000 12252 49200 80000 ...\n",
      " $ verification_status   : chr  \"Verified\" \"Source Verified\" \"Not Verified\" \"Source Verified\" ...\n",
      " $ issue_d               : chr  \"Dec-11\" \"Dec-11\" \"Dec-11\" \"Dec-11\" ...\n",
      " $ purpose               : chr  \"credit_card\" \"car\" \"small_business\" \"other\" ...\n",
      " $ dti                   : num  27.65 1 8.72 20 17.94 ...\n",
      " $ delinq_2yrs           : chr  \"0\" \"0\" \"0\" \"0\" ...\n",
      " $ earliest_cr_line      : chr  \"Jan-85\" \"Apr-99\" \"Nov-01\" \"Feb-96\" ...\n",
      " $ inq_last_6mths        : int  1 5 2 1 0 3 1 2 2 0 ...\n",
      " $ mths_since_last_delinq: int  NA NA NA 35 38 NA NA NA NA NA ...\n",
      " $ mths_since_last_record: int  NA NA NA NA NA NA NA NA NA NA ...\n",
      " $ open_acc              : int  3 3 2 10 15 9 7 4 11 2 ...\n",
      " $ pub_rec               : int  0 0 0 0 0 0 0 0 0 0 ...\n",
      " $ revol_bal             : chr  \"13648\" \"1687\" \"2956\" \"5598\" ...\n",
      " $ revol_util            : chr  \"83.70%\" \"9.40%\" \"98.50%\" \"21%\" ...\n",
      " $ total_acc             : chr  \"9\" \"4\" \"10\" \"37\" ...\n",
      " $ initial_list_status   : chr  \"f\" \"f\" \"f\" \"f\" ...\n",
      " $ out_prncp             : int  0 0 0 0 0 0 0 0 0 0 ...\n",
      " $ out_prncp_inv         : num  0 0 0 0 0 0 0 0 0 0 ...\n"
     ]
    }
   ],
   "source": [
    "head(credit)\n",
    "str(credit)"
   ]
  },
  {
   "cell_type": "markdown",
   "metadata": {},
   "source": [
    "remove duplicate instances and instances with wrong label"
   ]
  },
  {
   "cell_type": "code",
   "execution_count": 37,
   "metadata": {},
   "outputs": [
    {
     "data": {
      "text/html": [
       "<dl class=dl-horizontal>\n",
       "\t<dt>Charged Off</dt>\n",
       "\t\t<dd>5670</dd>\n",
       "\t<dt>Does not meet the credit policy. Status:Charged Off</dt>\n",
       "\t\t<dd>761</dd>\n",
       "\t<dt>Does not meet the credit policy. Status:Fully Paid</dt>\n",
       "\t\t<dd>1988</dd>\n",
       "\t<dt>Fully Paid</dt>\n",
       "\t\t<dd>34116</dd>\n",
       "</dl>\n"
      ],
      "text/latex": [
       "\\begin{description*}\n",
       "\\item[Charged Off] 5670\n",
       "\\item[Does not meet the credit policy. Status:Charged Off] 761\n",
       "\\item[Does not meet the credit policy. Status:Fully Paid] 1988\n",
       "\\item[Fully Paid] 34116\n",
       "\\end{description*}\n"
      ],
      "text/markdown": [
       "Charged Off\n",
       ":   5670Does not meet the credit policy. Status:Charged Off\n",
       ":   761Does not meet the credit policy. Status:Fully Paid\n",
       ":   1988Fully Paid\n",
       ":   34116\n",
       "\n"
      ],
      "text/plain": [
       "                                        Charged Off \n",
       "                                               5670 \n",
       "Does not meet the credit policy. Status:Charged Off \n",
       "                                                761 \n",
       " Does not meet the credit policy. Status:Fully Paid \n",
       "                                               1988 \n",
       "                                         Fully Paid \n",
       "                                              34116 "
      ]
     },
     "metadata": {},
     "output_type": "display_data"
    },
    {
     "data": {
      "text/html": [
       "<ol class=list-inline>\n",
       "\t<li>42535</li>\n",
       "\t<li>28</li>\n",
       "</ol>\n"
      ],
      "text/latex": [
       "\\begin{enumerate*}\n",
       "\\item 42535\n",
       "\\item 28\n",
       "\\end{enumerate*}\n"
      ],
      "text/markdown": [
       "1. 42535\n",
       "2. 28\n",
       "\n",
       "\n"
      ],
      "text/plain": [
       "[1] 42535    28"
      ]
     },
     "metadata": {},
     "output_type": "display_data"
    }
   ],
   "source": [
    "credit <- filter(credit, loan_status!='')\n",
    "credit$loan_status <- as.factor(credit$loan_status)\n",
    "summary(credit$loan_status)\n",
    "credit = distinct(credit)\n",
    "dim(credit)"
   ]
  },
  {
   "cell_type": "markdown",
   "metadata": {},
   "source": [
    "Feature Engineering & Feature Selection\n",
    "1 Transform column data type.\n",
    "2 Complete default value of some features.\n",
    "2 Clean missing values.\n",
    "3 Remove features with too many missing value.\n",
    "4 "
   ]
  },
  {
   "cell_type": "code",
   "execution_count": 38,
   "metadata": {},
   "outputs": [
    {
     "data": {
      "text/html": [
       "<ol class=list-inline>\n",
       "\t<li>0.1065</li>\n",
       "\t<li>0.1527</li>\n",
       "\t<li>0.1596</li>\n",
       "\t<li>0.1349</li>\n",
       "\t<li>0.1269</li>\n",
       "</ol>\n"
      ],
      "text/latex": [
       "\\begin{enumerate*}\n",
       "\\item 0.1065\n",
       "\\item 0.1527\n",
       "\\item 0.1596\n",
       "\\item 0.1349\n",
       "\\item 0.1269\n",
       "\\end{enumerate*}\n"
      ],
      "text/markdown": [
       "1. 0.1065\n",
       "2. 0.1527\n",
       "3. 0.1596\n",
       "4. 0.1349\n",
       "5. 0.1269\n",
       "\n",
       "\n"
      ],
      "text/plain": [
       "[1] 0.1065 0.1527 0.1596 0.1349 0.1269"
      ]
     },
     "metadata": {},
     "output_type": "display_data"
    },
    {
     "data": {
      "text/html": [
       "<ol class=list-inline>\n",
       "\t<li>0.837</li>\n",
       "\t<li>0.094</li>\n",
       "\t<li>0.985</li>\n",
       "\t<li>0.21</li>\n",
       "\t<li>0.539</li>\n",
       "</ol>\n"
      ],
      "text/latex": [
       "\\begin{enumerate*}\n",
       "\\item 0.837\n",
       "\\item 0.094\n",
       "\\item 0.985\n",
       "\\item 0.21\n",
       "\\item 0.539\n",
       "\\end{enumerate*}\n"
      ],
      "text/markdown": [
       "1. 0.837\n",
       "2. 0.094\n",
       "3. 0.985\n",
       "4. 0.21\n",
       "5. 0.539\n",
       "\n",
       "\n"
      ],
      "text/plain": [
       "[1] 0.837 0.094 0.985 0.210 0.539"
      ]
     },
     "metadata": {},
     "output_type": "display_data"
    }
   ],
   "source": [
    "#credit$int_rate<-as.character(credit$int_rate)\n",
    "credit$int_rate<-as.numeric(sub(\"%\", \"\", credit$int_rate))/100\n",
    "credit$int_rate[1:5]\n",
    "#credit$revol_util<-as.character(credit$revol_util)\n",
    "credit$revol_util<-as.numeric(sub(\"%\", \"\", credit$revol_util))/100\n",
    "credit$revol_util[1:5]"
   ]
  },
  {
   "cell_type": "code",
   "execution_count": 39,
   "metadata": {},
   "outputs": [],
   "source": [
    "credit$issue_d<-Sys.Date() - as.Date(as.character(credit$issue_d), format='%b-%y')\n",
    "credit$earliest_cr_line <-Sys.Date() - as.Date(as.character(credit$earliest_cr_line), format='%b-%y')"
   ]
  },
  {
   "cell_type": "code",
   "execution_count": 40,
   "metadata": {},
   "outputs": [
    {
     "data": {
      "text/html": [
       "<ol class=list-inline>\n",
       "\t<li>'loan_status'</li>\n",
       "\t<li>'loan_amnt'</li>\n",
       "\t<li>'funded_amnt'</li>\n",
       "\t<li>'funded_amnt_inv'</li>\n",
       "\t<li>'term'</li>\n",
       "\t<li>'int_rate'</li>\n",
       "\t<li>'installment'</li>\n",
       "\t<li>'grade'</li>\n",
       "\t<li>'emp_length'</li>\n",
       "\t<li>'home_ownership'</li>\n",
       "\t<li>'annual_inc'</li>\n",
       "\t<li>'verification_status'</li>\n",
       "\t<li>'issue_d'</li>\n",
       "\t<li>'purpose'</li>\n",
       "\t<li>'dti'</li>\n",
       "\t<li>'delinq_2yrs'</li>\n",
       "\t<li>'earliest_cr_line'</li>\n",
       "\t<li>'inq_last_6mths'</li>\n",
       "\t<li>'mths_since_last_delinq'</li>\n",
       "\t<li>'mths_since_last_record'</li>\n",
       "\t<li>'open_acc'</li>\n",
       "\t<li>'pub_rec'</li>\n",
       "\t<li>'revol_bal'</li>\n",
       "\t<li>'revol_util'</li>\n",
       "\t<li>'total_acc'</li>\n",
       "\t<li>'initial_list_status'</li>\n",
       "\t<li>'out_prncp'</li>\n",
       "\t<li>'out_prncp_inv'</li>\n",
       "</ol>\n"
      ],
      "text/latex": [
       "\\begin{enumerate*}\n",
       "\\item 'loan\\_status'\n",
       "\\item 'loan\\_amnt'\n",
       "\\item 'funded\\_amnt'\n",
       "\\item 'funded\\_amnt\\_inv'\n",
       "\\item 'term'\n",
       "\\item 'int\\_rate'\n",
       "\\item 'installment'\n",
       "\\item 'grade'\n",
       "\\item 'emp\\_length'\n",
       "\\item 'home\\_ownership'\n",
       "\\item 'annual\\_inc'\n",
       "\\item 'verification\\_status'\n",
       "\\item 'issue\\_d'\n",
       "\\item 'purpose'\n",
       "\\item 'dti'\n",
       "\\item 'delinq\\_2yrs'\n",
       "\\item 'earliest\\_cr\\_line'\n",
       "\\item 'inq\\_last\\_6mths'\n",
       "\\item 'mths\\_since\\_last\\_delinq'\n",
       "\\item 'mths\\_since\\_last\\_record'\n",
       "\\item 'open\\_acc'\n",
       "\\item 'pub\\_rec'\n",
       "\\item 'revol\\_bal'\n",
       "\\item 'revol\\_util'\n",
       "\\item 'total\\_acc'\n",
       "\\item 'initial\\_list\\_status'\n",
       "\\item 'out\\_prncp'\n",
       "\\item 'out\\_prncp\\_inv'\n",
       "\\end{enumerate*}\n"
      ],
      "text/markdown": [
       "1. 'loan_status'\n",
       "2. 'loan_amnt'\n",
       "3. 'funded_amnt'\n",
       "4. 'funded_amnt_inv'\n",
       "5. 'term'\n",
       "6. 'int_rate'\n",
       "7. 'installment'\n",
       "8. 'grade'\n",
       "9. 'emp_length'\n",
       "10. 'home_ownership'\n",
       "11. 'annual_inc'\n",
       "12. 'verification_status'\n",
       "13. 'issue_d'\n",
       "14. 'purpose'\n",
       "15. 'dti'\n",
       "16. 'delinq_2yrs'\n",
       "17. 'earliest_cr_line'\n",
       "18. 'inq_last_6mths'\n",
       "19. 'mths_since_last_delinq'\n",
       "20. 'mths_since_last_record'\n",
       "21. 'open_acc'\n",
       "22. 'pub_rec'\n",
       "23. 'revol_bal'\n",
       "24. 'revol_util'\n",
       "25. 'total_acc'\n",
       "26. 'initial_list_status'\n",
       "27. 'out_prncp'\n",
       "28. 'out_prncp_inv'\n",
       "\n",
       "\n"
      ],
      "text/plain": [
       " [1] \"loan_status\"            \"loan_amnt\"              \"funded_amnt\"           \n",
       " [4] \"funded_amnt_inv\"        \"term\"                   \"int_rate\"              \n",
       " [7] \"installment\"            \"grade\"                  \"emp_length\"            \n",
       "[10] \"home_ownership\"         \"annual_inc\"             \"verification_status\"   \n",
       "[13] \"issue_d\"                \"purpose\"                \"dti\"                   \n",
       "[16] \"delinq_2yrs\"            \"earliest_cr_line\"       \"inq_last_6mths\"        \n",
       "[19] \"mths_since_last_delinq\" \"mths_since_last_record\" \"open_acc\"              \n",
       "[22] \"pub_rec\"                \"revol_bal\"              \"revol_util\"            \n",
       "[25] \"total_acc\"              \"initial_list_status\"    \"out_prncp\"             \n",
       "[28] \"out_prncp_inv\"         "
      ]
     },
     "metadata": {},
     "output_type": "display_data"
    },
    {
     "name": "stdout",
     "output_type": "stream",
     "text": [
      "'data.frame':\t42535 obs. of  28 variables:\n",
      " $ loan_status           : Factor w/ 4 levels \"Charged Off\",..: 4 1 4 4 4 4 4 4 1 1 ...\n",
      " $ loan_amnt             : int  5000 2500 2400 10000 3000 5000 7000 3000 5600 5375 ...\n",
      " $ funded_amnt           : int  5000 2500 2400 10000 3000 5000 7000 3000 5600 5375 ...\n",
      " $ funded_amnt_inv       : num  4975 2500 2400 10000 3000 ...\n",
      " $ term                  : chr  \" 36 months\" \" 60 months\" \" 36 months\" \" 36 months\" ...\n",
      " $ int_rate              : num  0.106 0.153 0.16 0.135 0.127 ...\n",
      " $ installment           : num  162.9 59.8 84.3 339.3 67.8 ...\n",
      " $ grade                 : chr  \"B\" \"C\" \"C\" \"C\" ...\n",
      " $ emp_length            : chr  \"10+ years\" \"< 1 year\" \"10+ years\" \"10+ years\" ...\n",
      " $ home_ownership        : chr  \"RENT\" \"RENT\" \"RENT\" \"RENT\" ...\n",
      " $ annual_inc            : num  24000 30000 12252 49200 80000 ...\n",
      " $ verification_status   : chr  \"Verified\" \"Source Verified\" \"Not Verified\" \"Source Verified\" ...\n",
      " $ issue_d               : 'difftime' num  NA NA NA NA ...\n",
      "  ..- attr(*, \"units\")= chr \"days\"\n",
      " $ purpose               : chr  \"credit_card\" \"car\" \"small_business\" \"other\" ...\n",
      " $ dti                   : num  27.65 1 8.72 20 17.94 ...\n",
      " $ delinq_2yrs           : chr  \"0\" \"0\" \"0\" \"0\" ...\n",
      " $ earliest_cr_line      : 'difftime' num  NA NA NA NA ...\n",
      "  ..- attr(*, \"units\")= chr \"days\"\n",
      " $ inq_last_6mths        : int  1 5 2 1 0 3 1 2 2 0 ...\n",
      " $ mths_since_last_delinq: int  NA NA NA 35 38 NA NA NA NA NA ...\n",
      " $ mths_since_last_record: int  NA NA NA NA NA NA NA NA NA NA ...\n",
      " $ open_acc              : int  3 3 2 10 15 9 7 4 11 2 ...\n",
      " $ pub_rec               : int  0 0 0 0 0 0 0 0 0 0 ...\n",
      " $ revol_bal             : chr  \"13648\" \"1687\" \"2956\" \"5598\" ...\n",
      " $ revol_util            : num  0.837 0.094 0.985 0.21 0.539 0.283 0.856 0.875 0.326 0.365 ...\n",
      " $ total_acc             : chr  \"9\" \"4\" \"10\" \"37\" ...\n",
      " $ initial_list_status   : chr  \"f\" \"f\" \"f\" \"f\" ...\n",
      " $ out_prncp             : int  0 0 0 0 0 0 0 0 0 0 ...\n",
      " $ out_prncp_inv         : num  0 0 0 0 0 0 0 0 0 0 ...\n"
     ]
    }
   ],
   "source": [
    "names(credit)\n",
    "str(credit)"
   ]
  },
  {
   "cell_type": "code",
   "execution_count": 51,
   "metadata": {},
   "outputs": [
    {
     "name": "stdout",
     "output_type": "stream",
     "text": [
      "'data.frame':\t0 obs. of  28 variables:\n",
      " $ loan_status           : Factor w/ 4 levels \"Charged Off\",..: \n",
      " $ loan_amnt             : int \n",
      " $ funded_amnt           : int \n",
      " $ funded_amnt_inv       : num \n",
      " $ term                  : Factor w/ 2 levels \" 36 months\",\" 60 months\": \n",
      " $ int_rate              : num \n",
      " $ installment           : num \n",
      " $ grade                 : Factor w/ 7 levels \"A\",\"B\",\"C\",\"D\",..: \n",
      " $ emp_length            : Factor w/ 12 levels \"< 1 year\",\"1 year\",..: \n",
      " $ home_ownership        : Factor w/ 5 levels \"MORTGAGE\",\"NONE\",..: \n",
      " $ annual_inc            : num \n",
      " $ verification_status   : Factor w/ 3 levels \"Not Verified\",..: \n",
      " $ issue_d               : 'difftime' num \n",
      "  ..- attr(*, \"units\")= chr \"days\"\n",
      " $ purpose               : Factor w/ 15 levels \"car\",\"credit_card\",..: \n",
      " $ dti                   : num \n",
      " $ delinq_2yrs           : num \n",
      " $ earliest_cr_line      : 'difftime' num \n",
      "  ..- attr(*, \"units\")= chr \"days\"\n",
      " $ inq_last_6mths        : int \n",
      " $ mths_since_last_delinq: logi \n",
      " $ mths_since_last_record: logi \n",
      " $ open_acc              : int \n",
      " $ pub_rec               : int \n",
      " $ revol_bal             : chr \n",
      " $ revol_util            : num \n",
      " $ total_acc             : chr \n",
      " $ initial_list_status   : Factor w/ 2 levels \"0\",\"f\": \n",
      " $ out_prncp             : int \n",
      " $ out_prncp_inv         : num \n"
     ]
    }
   ],
   "source": [
    "#credit<-subset(credit, term!='' && total_acc!='')\n",
    "credit$initial_list_status <- as.factor(credit$initial_list_status)\n",
    "credit$term <- as.factor(credit$term)\n",
    "credit$grade <- as.factor(credit$grade)\n",
    "credit$emp_length  <- as.factor(credit$emp_length )\n",
    "credit$home_ownership  <- as.factor(credit$home_ownership )\n",
    "credit$verification_status  <- as.factor(credit$verification_status )\n",
    "credit$purpose  <- as.factor(credit$purpose )\n",
    "credit$delinq_2yrs <- as.numeric(credit$delinq_2yrs)\n",
    "default_col <- c('mths_since_last_delinq','mths_since_last_record')\n",
    "credit[,default_col] <- lapply(credit[,default_col], function(x){ifelse(x==NA, 0 ,x)})\n",
    "#credit <- credit[complete.cases(credit$mths_since_last_delinq),]\n",
    "credit$initial_list_status   <- as.factor(credit$initial_list_status  )\n",
    "str(credit)"
   ]
  },
  {
   "cell_type": "code",
   "execution_count": null,
   "metadata": {},
   "outputs": [],
   "source": []
  }
 ],
 "metadata": {
  "kernelspec": {
   "display_name": "R",
   "language": "R",
   "name": "ir"
  },
  "language_info": {
   "codemirror_mode": "r",
   "file_extension": ".r",
   "mimetype": "text/x-r-source",
   "name": "R",
   "pygments_lexer": "r",
   "version": "3.5.1"
  }
 },
 "nbformat": 4,
 "nbformat_minor": 2
}
